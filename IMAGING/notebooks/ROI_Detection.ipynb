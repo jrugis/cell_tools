{
 "cells": [
  {
   "cell_type": "markdown",
   "metadata": {},
   "source": [
    "# Python notebook to identify ROI's and plot responses.\n",
    "Assumes folder directory structure:\n",
    "<pre><code>  IMAGING\n",
    "    image_stacks\n",
    "    notebooks\n",
    "    results\n",
    "</code></pre>\n",
    "Execute the code sequentially, one block at a time, using &lt;shift-return&gt;.\n",
    "#### Initialize."
   ]
  },
  {
   "cell_type": "code",
   "execution_count": null,
   "metadata": {
    "jupyter": {
     "source_hidden": true
    }
   },
   "outputs": [],
   "source": [
    "import csv\n",
    "import datetime\n",
    "import glob\n",
    "import ipywidgets as widgets\n",
    "import matplotlib.pyplot as plt\n",
    "from matplotlib import gridspec\n",
    "import matplotlib as mpl\n",
    "import numpy as np\n",
    "import os\n",
    "from utils import remove_large_objects\n",
    "from skimage import exposure\n",
    "from skimage import io\n",
    "from skimage.morphology import binary_erosion, binary_dilation\n",
    "from skimage.morphology import remove_small_objects\n",
    "from skimage.measure import label, regionprops\n",
    "from skimage.util import img_as_float32\n",
    "\n",
    "# global variables\n",
    "if os.name == \"nt\":\n",
    "    FILE_SEP = \"\\\\\"\n",
    "else:\n",
    "    FILE_SEP = \"/\"\n"
   ]
  },
  {
   "cell_type": "markdown",
   "metadata": {},
   "source": [
    "#### Select image stack file(s).\n",
    "Select multiple images using command-click. \\\n",
    "Only select multiple stacks that have the same pixel and depth dimensions!"
   ]
  },
  {
   "cell_type": "code",
   "execution_count": null,
   "metadata": {
    "jupyter": {
     "source_hidden": true
    }
   },
   "outputs": [],
   "source": [
    "%matplotlib widget\n",
    "\n",
    "# global variables\n",
    "image_files = {}    # image stack name(s)\n",
    "\n",
    "# create image file(s) widget\n",
    "image_files = sorted([f.split(FILE_SEP)[-1] for f in glob.glob(\"../image_stacks/*.tif\", recursive=False)], key=str.casefold)\n",
    "image_widget = widgets.SelectMultiple(options=image_files, description='Image stack(s)', \n",
    "                            disabled=False, layout={'width':'400px'}, style={'description_width':'150px'})\n",
    "\n",
    "# display and respond to the widgets\n",
    "def f(w1):\n",
    "  global image_files\n",
    "  image_files = image_widget.value\n",
    "display(widgets.interactive(f, w1=image_widget))\n"
   ]
  },
  {
   "cell_type": "markdown",
   "metadata": {},
   "source": [
    "#### Enter short descriptive image stack labels.\n",
    "Note: Enter alpha-numeric values only.\n"
   ]
  },
  {
   "cell_type": "code",
   "execution_count": null,
   "metadata": {
    "jupyter": {
     "source_hidden": true
    }
   },
   "outputs": [],
   "source": [
    "%matplotlib widget\n",
    "\n",
    "# global variables\n",
    "image_tags = []         # list of image file tag labels\n",
    "roi_idx = 0             # image file index to use to use for generating roi's\n",
    "\n",
    "# create image tag widget(s)\n",
    "image_tag_widgets = []\n",
    "m = 6                   # a static number of widgets to display\n",
    "n = len(image_files)    # the number of image stack files selected\n",
    "for i in range(m):\n",
    "  if i >= n:\n",
    "    d = ' '\n",
    "  else:\n",
    "    d = image_files[i]\n",
    "  image_tag_widgets.append(widgets.Text(value='', placeholder='enter a label', description=d,\n",
    "                    disabled=(i>=n), layout={'width':'350px'}, style={'description_width':'250px'}))\n",
    "# display and respond to the widgets\n",
    "def f(w1,w2,w3,w4,w5,w6):\n",
    "  global image_tags, roi_idx\n",
    "  image_tags = [(w.value,idx) for idx,w in enumerate(image_tag_widgets)]\n",
    "  for t in image_tags[:n]:\n",
    "    print('Is label \"' + t[0] + '\" alpha-numeric?', t[0].isalnum())\n",
    "display(widgets.interactive(f, w1=image_tag_widgets[0],\n",
    "                               w2=image_tag_widgets[1],\n",
    "                               w3=image_tag_widgets[2],\n",
    "                               w4=image_tag_widgets[3],\n",
    "                               w5=image_tag_widgets[4],\n",
    "                               w6=image_tag_widgets[5]))\n"
   ]
  },
  {
   "cell_type": "markdown",
   "metadata": {},
   "source": [
    "#### Set display and calculation parameters.\n",
    "Note: An LUT color reference can be found at:\n",
    "https://matplotlib.org/3.1.1/gallery/color/colormap_reference.html"
   ]
  },
  {
   "cell_type": "code",
   "execution_count": null,
   "metadata": {
    "jupyter": {
     "source_hidden": true
    }
   },
   "outputs": [],
   "source": [
    "%matplotlib widget\n",
    "\n",
    "# global variables\n",
    "roi_idx = 0               # index of image/label use for generating roi's\n",
    "lut = 'coolwarm'          # the stack animation color lookup table\n",
    "stim_start = 100          # stimulation start frame\n",
    "stim_done = 250           # stimulation end frame (including decay?)\n",
    "image_bits = 10           # bits per pixel (can be found in the oir meta data)\n",
    "image_fps = 10            # image data frames per second\n",
    "small_object = 16         # small object size to cull\n",
    "dilations = 2             # number of dilations to apply\n",
    "roi_quantile = 0.98       # roi threashold (0.98)\n",
    "roi_cull = 0              # large roi percent to cull\n",
    "method = 'average'        # stimulation detection calculation method\n",
    "\n",
    "s = {'description_width':'200px'} # a default widget style\n",
    "\n",
    "# create roi tag widget\n",
    "roi_tag_widget = widgets.Dropdown(options=image_tags[0:len(image_files)], \n",
    "                 value=roi_idx, description='Image stack for ROI creation', \n",
    "                 disabled=False, layout={'width':'300px'}, style=s)\n",
    "\n",
    "# create lut widget\n",
    "lut_widget = widgets.Dropdown(options=plt.colormaps(), value=lut, description='Image stack LUT', \n",
    "             disabled=False, layout={'width':'350px'}, style=s)\n",
    "\n",
    "# create method widget\n",
    "method_widget = widgets.Dropdown(options=['average', 'std'], value=method, description='Calculation method',\n",
    "                disabled=False, layout={'width':'300px'}, style=s)\n",
    "\n",
    "# create numeric input widgets\n",
    "stim_start_widget = widgets.BoundedIntText(value=stim_start, min=0, max=1000, step=1,\n",
    "                    description='Stimulation start frame', disabled=False, layout={'width':'270px'}, style=s)\n",
    "stim_done_widget = widgets.BoundedIntText(value=stim_done, min=0, max=1000, step=1,\n",
    "                    description='Stimulation done frame', disabled=False, layout={'width':'270px'}, style=s)\n",
    "image_bits_widget = widgets.BoundedIntText(value=image_bits, min=8, max=16, step=1,\n",
    "                    description='Image data bits', disabled=False, layout={'width':'270px'}, style=s)\n",
    "image_fps_widget = widgets.BoundedIntText(value=image_fps, min=1, max=40, step=1,\n",
    "                    description='Image stack frames per second', disabled=False, layout={'width':'270px'}, style=s)\n",
    "small_object_widget = widgets.BoundedIntText(value=small_object, min=1, max=100, step=1,\n",
    "                    description='Small region cull size', disabled=False, layout={'width':'270px'}, style=s)\n",
    "dilations_widget = widgets.BoundedIntText(value=dilations, min=0, max=10, step=1,\n",
    "                    description='Number of dilations', disabled=False, layout={'width':'270px'}, style=s)\n",
    "roi_quantile_widget = widgets.BoundedFloatText(value=roi_quantile, min=0.8, max=0.99, step=0.01,\n",
    "                    description='ROI threashold quantile', disabled=False, layout={'width':'270px'}, style=s)\n",
    "roi_cull_widget = widgets.BoundedIntText(value=roi_cull, min=0, max=90, step=1,\n",
    "                    description='Large ROI % to cull', disabled=False, layout={'width':'270px'}, style=s)\n",
    "\n",
    "# display and respond to the widgets\n",
    "def f(w10,w1,w2,w3,w4,w5,w6,w7,w8,w9,w11):\n",
    "  global lut, stim_start, stim_done, image_bits, image_fps, small_object, dilations\n",
    "  global roi_quantile, method, roi_idx, roi_cull\n",
    "  lut = lut_widget.value\n",
    "  stim_start = stim_start_widget.value\n",
    "  stim_done = stim_done_widget.value\n",
    "  image_bits = image_bits_widget.value\n",
    "  image_fps = image_fps_widget.value\n",
    "  small_object = small_object_widget.value\n",
    "  dilations = dilations_widget.value\n",
    "  roi_quantile = roi_quantile_widget.value\n",
    "  method = method_widget.value\n",
    "  roi_idx = roi_tag_widget.value\n",
    "  roi_cull = roi_cull_widget.value\n",
    "display(widgets.interactive(f, \n",
    "    w10=roi_tag_widget, w1=lut_widget, w2=stim_start_widget, w3=stim_done_widget, w5=image_bits_widget,\n",
    "    w4=image_fps_widget, w6=small_object_widget, w7=dilations_widget, w8=method_widget, \n",
    "    w9=roi_quantile_widget, w11=roi_cull_widget))\n",
    "\n"
   ]
  },
  {
   "cell_type": "markdown",
   "metadata": {},
   "source": [
    "#### Create a new time-stamped results directory."
   ]
  },
  {
   "cell_type": "code",
   "execution_count": null,
   "metadata": {
    "jupyter": {
     "source_hidden": true
    }
   },
   "outputs": [],
   "source": [
    "# create time-stamped results directory\n",
    "if not os.path.exists(\"../results\"):\n",
    "  os.mkdir(\"../results\")\n",
    "resultsdir = str(datetime.datetime.now())[:-7]\n",
    "resultsdir = resultsdir.replace('-', '').replace(' ', '-').replace(':','')\n",
    "resultsdir = \"../results/\" + resultsdir\n",
    "os.mkdir(resultsdir)\n",
    "\n",
    "# write out the image stack file names used\n",
    "f = open(resultsdir + '/' + \"image_stacks.txt\", \"w\")\n",
    "for v in image_files:\n",
    "  f.write(v+'\\n')\n",
    "f.close()\n",
    "\n",
    "# write out the labels used\n",
    "f = open(resultsdir + '/' + \"labels.txt\", \"w\")\n",
    "for i in range(len(image_files)):\n",
    "  f.write(image_tags[i][0]+'\\n')\n",
    "f.close()"
   ]
  },
  {
   "cell_type": "markdown",
   "metadata": {},
   "source": [
    "#### Get the image stack for ROI creation.\n"
   ]
  },
  {
   "cell_type": "code",
   "execution_count": null,
   "metadata": {
    "jupyter": {
     "source_hidden": true
    }
   },
   "outputs": [],
   "source": [
    "# get the image stack for roi's\n",
    "A0 = io.imread(\"../image_stacks/\" + image_files[roi_idx])\n",
    "A0 = np.float32(A0/(2.0**image_bits))\n",
    "\n",
    "# average out y-direction aliasing over every other line\n",
    "for n in range(A0.shape[0] - 1): # moving average over every two lines\n",
    "  A0[n] = (A0[n] + A0[n+1]) / 2.0\n",
    "\n",
    "# get the maximum value for image display scaling\n",
    "if method == \"std\":\n",
    "  A0_max = np.std(A0, axis=0).max()\n",
    "else:\n",
    "  A0_max = np.mean(A0, axis=0).max()\n"
   ]
  },
  {
   "cell_type": "markdown",
   "metadata": {},
   "source": [
    "#### Unstimulated average (or standard deviation) over time.\n"
   ]
  },
  {
   "cell_type": "code",
   "execution_count": null,
   "metadata": {
    "jupyter": {
     "source_hidden": true
    }
   },
   "outputs": [],
   "source": [
    "%matplotlib inline\n",
    "\n",
    "# unstimulated average or std over time\n",
    "A = np.concatenate((A0[:stim_start-1,:,:], A0[stim_done:,:,:])) # unstimulated only\n",
    "if method == \"std\":\n",
    "  M = np.std(A, axis=0)\n",
    "else:\n",
    "  M = np.mean(A, axis=0)\n",
    "\n",
    "# plot image\n",
    "fig, ax = plt.subplots(nrows=1, ncols=2, figsize = [12, 4])\n",
    "fig.suptitle(image_tags[roi_idx][0] + \" unstimulated time \" + method , fontsize=15)\n",
    "\n",
    "ax[0].set_title(method + \" image\")\n",
    "cs = ax[0].imshow(M, vmin=0, vmax=A0_max, cmap=lut) # image\n",
    "if method == \"std\":\n",
    "  fig.colorbar(cs, ax=ax[0], label='relative pixel intensity')\n",
    "elif method == \"average\":\n",
    "  norm = mpl.colors.Normalize(vmin=0, vmax=1)\n",
    "  v = mpl.cm.ScalarMappable(norm=norm, cmap=lut)\n",
    "  fig.colorbar(v, ax=ax[0], label='relative pixel intensity')\n",
    "\n",
    "ax[1].hist(M.flatten(), bins=100) # histogram\n",
    "ax[1].set_title(\"pixel histogram\")\n",
    "fig.savefig(resultsdir + \"/\" + image_tags[roi_idx][0] + \"-unstimulated_time_\" + method + \".pdf\")\n",
    "plt.show()\n"
   ]
  },
  {
   "cell_type": "markdown",
   "metadata": {},
   "source": [
    "#### Stimulated average (or standard deviation) over time.\n"
   ]
  },
  {
   "cell_type": "code",
   "execution_count": null,
   "metadata": {
    "jupyter": {
     "source_hidden": true
    }
   },
   "outputs": [],
   "source": [
    "%matplotlib inline\n",
    "\n",
    "# stimulated average or std over time\n",
    "A = A0[stim_start-1:stim_done-1,:,:] # stimulated only\n",
    "if method == \"std\":\n",
    "  N = np.std(A, axis=0)\n",
    "elif method == \"average\":\n",
    "  N = np.mean(A, axis=0)\n",
    "\n",
    "# plot image\n",
    "fig, ax = plt.subplots(nrows=1, ncols=2, figsize = [12, 4])\n",
    "fig.suptitle(image_tags[roi_idx][0] + \" stimulated time \" + method, fontsize=15)\n",
    "\n",
    "ax[0].set_title(method + \" image\")\n",
    "cs = ax[0].imshow(N, vmin=0, vmax=A0_max, cmap=lut) # image\n",
    "if method == \"std\":\n",
    "  fig.colorbar(cs, ax=ax[0], label='relative pixel intensity')\n",
    "elif method == \"average\":\n",
    "  norm = mpl.colors.Normalize(vmin=0, vmax=1)\n",
    "  v = mpl.cm.ScalarMappable(norm=norm, cmap=lut)\n",
    "  fig.colorbar(v, ax=ax[0], label='relative pixel intensity')\n",
    "\n",
    "ax[1].hist(N.flatten(), bins=100) # histogram\n",
    "ax[1].set_title(\"pixel histogram\")\n",
    "fig.savefig(resultsdir + \"/\" + image_tags[roi_idx][0] + \"-stimulated_time_\" + method + \".pdf\")\n",
    "plt.show()\n"
   ]
  },
  {
   "cell_type": "markdown",
   "metadata": {},
   "source": [
    "#### Stimulated minus unstimulated average (or standard deviation) over time.\n"
   ]
  },
  {
   "cell_type": "code",
   "execution_count": null,
   "metadata": {
    "jupyter": {
     "source_hidden": true
    }
   },
   "outputs": [],
   "source": [
    "%matplotlib inline\n",
    "\n",
    "# difference: stimulated - unstimulated\n",
    "O = N - M\n",
    "\n",
    "# plot image\n",
    "fig, ax = plt.subplots(nrows=1, ncols=2, figsize = [12, 4])\n",
    "fig.suptitle(image_tags[roi_idx][0] + \" stimulated minus unstimulated\", fontsize=15)\n",
    "\n",
    "ax[0].set_title(method + \" difference image\")\n",
    "cs = ax[0].imshow(O, norm=None, cmap=lut) # image\n",
    "if method == \"std\":\n",
    "  fig.colorbar(cs, ax=ax[0], label='relative pixel intensity')\n",
    "elif method == \"average\":\n",
    "  norm = mpl.colors.Normalize(vmin=0, vmax=1)\n",
    "  v = mpl.cm.ScalarMappable(norm=norm, cmap=lut)\n",
    "  fig.colorbar(v, ax=ax[0], orientation='vertical', label='relative pixel intensity')\n",
    "\n",
    "ax[1].hist(O.flatten(), bins=100) # histogram\n",
    "ax[1].set_title(\"pixel histogram\")\n",
    "fig.savefig(resultsdir + \"/\" + image_tags[roi_idx][0] + \"-stimulated_minus_unstimulated.pdf\")\n",
    "plt.show()\n"
   ]
  },
  {
   "cell_type": "markdown",
   "metadata": {},
   "source": [
    "#### Create region-of-interest mask.\n"
   ]
  },
  {
   "cell_type": "code",
   "execution_count": null,
   "metadata": {
    "jupyter": {
     "source_hidden": true
    }
   },
   "outputs": [],
   "source": [
    "%matplotlib inline\n",
    "\n",
    "os.system(\"rm -f \" + resultsdir + \"/region*.*\") # delete all exiting region files\n",
    "\n",
    "fig, ax = plt.subplots(nrows=1, ncols=2, figsize = [10, 4])\n",
    "fig.suptitle(\"ROI mask - initial and filtered, from \" + image_tags[roi_idx][0] + \" data\", fontsize=15)\n",
    "\n",
    "# difference threashold filter\n",
    "P = (O > np.quantile(O,roi_quantile)).astype(float)\n",
    "\n",
    "# plot image\n",
    "ax[0].imshow(P, norm=None, cmap='gray');\n",
    "io.imsave(resultsdir + \"/\" + image_tags[roi_idx][0] + \"-roi_mask_initial.png\", 255*np.uint8(P), check_contrast=False)\n",
    "\n",
    "# filtering: erosion, remove small, then dilation\n",
    "Q = binary_erosion(P)\n",
    "Q = remove_small_objects(Q, small_object)\n",
    "for i in range(dilations):\n",
    "  Q = binary_dilation(Q)\n",
    "Q = remove_large_objects(Q, roi_cull)\n",
    "\n",
    "ax[1].imshow(Q, norm=None, cmap='gray') # plot image\n",
    "io.imsave(resultsdir + \"/\" + image_tags[roi_idx][0] + \"-roi_mask_filtered.png\", 255*np.uint8(Q), check_contrast=False)\n",
    "plt.show()\n",
    "\n",
    "# label and get pixel counts\n",
    "R, n = label(Q, return_num=True)\n",
    "io.imsave(resultsdir + \"/\" + image_tags[roi_idx][0] + \"-roi_mask_labelled.tif\", np.int16(R), check_contrast=False)\n",
    "ROI, COUNT = np.unique(R, return_counts=True)\n",
    "print(\"stimulation: \" + image_tags[roi_idx][0])\n",
    "print(\"number of regions identified: \", ROI.shape[0]-1)\n",
    "print(\"ROI labels: \", ROI[1:])\n",
    "print(\"ROI pixel counts: \", COUNT[1:])\n",
    "print()"
   ]
  },
  {
   "cell_type": "markdown",
   "metadata": {},
   "source": [
    "#### FOR REFERENCE: Annotate the ROI mask regions by number."
   ]
  },
  {
   "cell_type": "code",
   "execution_count": null,
   "metadata": {
    "jupyter": {
     "source_hidden": true
    }
   },
   "outputs": [],
   "source": [
    "%matplotlib inline\n",
    "\n",
    "# start with the filtered image...\n",
    "fig, ax = plt.subplots(nrows=1, ncols=1, figsize = [10, 10])\n",
    "ax.imshow(Q, norm=None, vmax=2, cmap='gray') # dim the white a bit, easier to see the annnotations\n",
    "ax.set_title(\"ROI mask label numbers (from \" + image_tags[roi_idx][0] + \" data)\", fontsize=15)\n",
    "\n",
    "# annotate each region with its label number \n",
    "for props in regionprops(R):\n",
    "  y, x = props.centroid # get the centroid for each region\n",
    "  t = ax.text(x, y, str(props.label), ha='center', va='center', size=14, c='r')\n",
    "fig.savefig(resultsdir + \"/\" + image_tags[roi_idx][0] + \"-roi_mask_annotated.pdf\")\n",
    "plt.show()\n"
   ]
  },
  {
   "cell_type": "markdown",
   "metadata": {},
   "source": [
    "#### DIAGNOSTIC: Plot ROI responses for the same stimulation frequency used to generate the mask.\n"
   ]
  },
  {
   "cell_type": "code",
   "execution_count": null,
   "metadata": {
    "jupyter": {
     "source_hidden": true
    }
   },
   "outputs": [],
   "source": [
    "%matplotlib inline\n",
    "\n",
    "# apical region plots using the mask\n",
    "X = np.array(range(A0.shape[0])) * (1/image_fps) # the timebase\n",
    "\n",
    "# create and save plots\n",
    "for c in ROI:\n",
    "  if(c==0):\n",
    "    continue\n",
    "  fig, ax = plt.subplots(nrows=1, ncols=1, figsize = [10, 4])\n",
    "  fig.suptitle('region ' + str(c)+ \": individual pixels and average, \" + image_tags[roi_idx][0] + \" mask and stimulation - \" +str(COUNT[c]) + \" pixels\")\n",
    "\n",
    "  A = np.concatenate((A0[:stim_start-1,:,:], A0[stim_done:,:,:])) # unstimulated only\n",
    "  M = np.mean(A, axis=0)\n",
    "  F0 = np.mean(M[R==ROI[c]]) # per region \n",
    "  #F0 = M[R==ROI[c]] # per pixel\n",
    "  S = 100 * A0[:, R==ROI[c]] / F0\n",
    "  T = np.sum(S, axis=1) / S.shape[1]\n",
    "  ax.plot(X, S)\n",
    "  ax.plot(X, T, color='black')\n",
    "  ax.set(ylabel=\"%F/F0\")\n",
    "  ax.set(xlabel=\"time (s)\")\n",
    "\n",
    "  # save figure to pdf\n",
    "  s = \"/region_\" + str(c).zfill(2) + \"-mask\" + image_tags[roi_idx][0] + \"-stim\" + image_tags[roi_idx][0] + \".pdf\"\n",
    "  fig.savefig(resultsdir + s)\n",
    "  \n",
    "  plt.show()\n",
    "  plt.close() # frees up memory\n",
    "\n"
   ]
  },
  {
   "cell_type": "markdown",
   "metadata": {},
   "source": [
    "#### RESULTS: Plot responses for all stimulation frequencies and regions using the mask from above.\n",
    "#### Save responses to CSV files.\n",
    "NOTE: The first CSV column is the time base, followed by a column for each stimulation frequency."
   ]
  },
  {
   "cell_type": "code",
   "execution_count": null,
   "metadata": {
    "jupyter": {
     "source_hidden": true
    }
   },
   "outputs": [],
   "source": [
    "%matplotlib inline\n",
    "\n",
    "# calculate, plot and save region responses for all stimulation frequencies\n",
    "\n",
    "# calculate all of the results\n",
    "RESULTS = np.zeros((len(image_files), ROI.shape[0]-1, A0.shape[0])) # array for all of the apical results\n",
    "X = np.array(range(RESULTS.shape[2])) * (1/image_fps) # the timebase\n",
    "for f in image_files:\n",
    "  # get image stack\n",
    "  A0x = io.imread(\"../image_stacks/\" + f)\n",
    "  A0x = np.float32(A0x/(2.0**image_bits))\n",
    "\n",
    "  # average out y-direction aliasing over every other line\n",
    "  for n in range(A0x.shape[0] - 1): # moving average over every two lines\n",
    "    A0x[n] = (A0x[n] + A0x[n+1]) / 2.0\n",
    "\n",
    "  Ax = np.concatenate((A0x[:stim_start-1,:,:], A0x[stim_done:,:,:])) # unstimulated only\n",
    "  Mx = np.mean(Ax, axis=0)\n",
    "\n",
    "  for c in ROI:\n",
    "    if(c==0):\n",
    "      continue\n",
    "    F0 = np.mean(Mx[R==ROI[c]]) # per region \n",
    "    S = 100 * A0x[:, R==ROI[c]] / F0\n",
    "    T = np.sum(S, axis=1) / S.shape[1]\n",
    "    RESULTS[list(image_files).index(f), c-1] = T # save in the results array\n",
    "\n",
    "# plot and save responses for all the stimulation frequencies by region\n",
    "for n in range(1,len(ROI)):\n",
    "  fig, ax = plt.subplots(nrows=1, ncols=1, figsize = [10, 4])\n",
    "  fig.suptitle('region ' + str(ROI[n]).zfill(2) + \": mask \"+ image_tags[roi_idx][0] + \", \" + str(COUNT[n]) + \" pixels\")\n",
    "\n",
    "  ax.plot(X, np.transpose(RESULTS[:, n-1, :]))\n",
    "  ax.set(ylabel=\"%F/F0\")\n",
    "  ax.set(xlabel=\"time (s)\")\n",
    "  ax.legend([t[0] for t in image_tags][0:len(image_files)])\n",
    "\n",
    "  # save figure to pdf\n",
    "  fig.savefig(resultsdir + \"/region_\" + str(n).zfill(2) + \"-mask\" + image_tags[roi_idx][0] + \"-stimALL.pdf\")\n",
    "    \n",
    "  plt.show()\n",
    "  plt.close() # frees up memory\n",
    "\n",
    "  # save responses to CSV file\n",
    "  with open (resultsdir + \"/region_\" + str(n).zfill(2) + \"-mask\" + image_tags[roi_idx][0] + \"-stimALL.csv\", 'w') as file:\n",
    "    writer = csv.writer(file)\n",
    "    for i in range(RESULTS.shape[2]):\n",
    "      t = np.append(X[i], RESULTS[:,n-1,i])\n",
    "      writer.writerow('{:3.3e}'.format(x) for x in t)\n",
    "\n",
    "# plot average of region responses for all the stimulation frequencies\n",
    "fig, ax = plt.subplots(nrows=1, ncols=1, figsize = [10, 4])\n",
    "fig.suptitle(\"average over all regions, mask \"+ image_tags[roi_idx][0])\n",
    "\n",
    "Y = np.transpose(np.sum(RESULTS, axis=(1)))/RESULTS.shape[1]\n",
    "ax.plot(X, Y)\n",
    "ax.set(ylabel=\"%F/F0\")\n",
    "ax.set(xlabel=\"time (s)\")\n",
    "ax.legend([t[0] for t in image_tags][0:len(image_files)])\n",
    "\n",
    "# save figure to pdf\n",
    "fig.savefig(resultsdir + \"/region_AVG-mask\" + image_tags[roi_idx][0] + \"-stimALL.pdf\")\n",
    "    \n",
    "plt.show()\n",
    "plt.close() # frees up memory\n",
    "\n",
    "# save average of responses to CSV file\n",
    "with open (resultsdir + \"/region_AVG-mask\" + image_tags[roi_idx][0] + \"-stimALL.csv\", 'w') as file:\n",
    "  writer = csv.writer(file)\n",
    "  for i in range(X.shape[0]):\n",
    "    t = np.append(X[i], Y[i])\n",
    "    writer.writerow('{:3.3e}'.format(x) for x in t)\n",
    "\n"
   ]
  },
  {
   "cell_type": "code",
   "execution_count": null,
   "metadata": {},
   "outputs": [],
   "source": []
  }
 ],
 "metadata": {
  "kernelspec": {
   "display_name": "Python 3 (ipykernel)",
   "language": "python",
   "name": "python3"
  },
  "language_info": {
   "codemirror_mode": {
    "name": "ipython",
    "version": 3
   },
   "file_extension": ".py",
   "mimetype": "text/x-python",
   "name": "python",
   "nbconvert_exporter": "python",
   "pygments_lexer": "ipython3",
   "version": "3.8.12"
  },
  "widgets": {
   "application/vnd.jupyter.widget-state+json": {
    "state": {
     "0baf445f70504e1292e550bedd354f38": {
      "model_module": "@jupyter-widgets/output",
      "model_module_version": "1.0.0",
      "model_name": "OutputModel",
      "state": {
       "layout": "IPY_MODEL_d19ade43c43b4d14a2141a2ee665f6e4"
      }
     },
     "0c94d2d38a834853bd804d5309bfc39d": {
      "model_module": "@jupyter-widgets/controls",
      "model_module_version": "1.5.0",
      "model_name": "TextModel",
      "state": {
       "description": "Mistgcamp-3_0001.tif",
       "layout": "IPY_MODEL_966fe46692664a79b5d4fd1a75425a96",
       "placeholder": "enter a label",
       "style": "IPY_MODEL_e056b8ee813e4e2688624ba3eb656ad4",
       "value": "2Hz"
      }
     },
     "145e30c91268401fa19d5952ebef9d0c": {
      "model_module": "@jupyter-widgets/controls",
      "model_module_version": "1.5.0",
      "model_name": "TextModel",
      "state": {
       "description": "Mistgcamp-3_0002.tif",
       "layout": "IPY_MODEL_4e2055b025754274b3eb8df522e725f3",
       "placeholder": "enter a label",
       "style": "IPY_MODEL_eedb95860f8449fba0a854e346bed658",
       "value": "5Hz"
      }
     },
     "14f3d579fbf24aa7a173f6d8e6eaabf9": {
      "model_module": "@jupyter-widgets/base",
      "model_module_version": "1.2.0",
      "model_name": "LayoutModel",
      "state": {
       "width": "300px"
      }
     },
     "164ba3e183b04288a09c715384aba359": {
      "model_module": "@jupyter-widgets/base",
      "model_module_version": "1.2.0",
      "model_name": "LayoutModel",
      "state": {}
     },
     "3b0f1a2ef7114700a23cb5cacbdaf87f": {
      "model_module": "@jupyter-widgets/controls",
      "model_module_version": "1.5.0",
      "model_name": "DescriptionStyleModel",
      "state": {
       "description_width": "200px"
      }
     },
     "4c1edcf58cd442c8bd14ffe0895a1989": {
      "model_module": "@jupyter-widgets/base",
      "model_module_version": "1.2.0",
      "model_name": "LayoutModel",
      "state": {
       "width": "300px"
      }
     },
     "4c84c5427867431f8fa5546be3e97529": {
      "model_module": "@jupyter-widgets/controls",
      "model_module_version": "1.5.0",
      "model_name": "DescriptionStyleModel",
      "state": {
       "description_width": "200px"
      }
     },
     "4e2055b025754274b3eb8df522e725f3": {
      "model_module": "@jupyter-widgets/base",
      "model_module_version": "1.2.0",
      "model_name": "LayoutModel",
      "state": {
       "width": "300px"
      }
     },
     "53bdf723e45147afaf4c5fc13e1880a2": {
      "model_module": "@jupyter-widgets/controls",
      "model_module_version": "1.5.0",
      "model_name": "VBoxModel",
      "state": {
       "_dom_classes": [
        "widget-interact"
       ],
       "children": [
        "IPY_MODEL_bbc4789c7312437f8fb344970e82eb16",
        "IPY_MODEL_0c94d2d38a834853bd804d5309bfc39d",
        "IPY_MODEL_145e30c91268401fa19d5952ebef9d0c",
        "IPY_MODEL_81bb9ca541f041b088be05127e48aa46",
        "IPY_MODEL_5f4ff91e78c24102a5b2a2b44eea7838",
        "IPY_MODEL_8a9f1cd4ef42459d9fdf412fd69bf093",
        "IPY_MODEL_aa4bbb6c51c04c7e9cdc72bb650c1743"
       ],
       "layout": "IPY_MODEL_164ba3e183b04288a09c715384aba359"
      }
     },
     "5b2d5ac9f2c640b38ccc7388a5edb9c3": {
      "model_module": "@jupyter-widgets/base",
      "model_module_version": "1.2.0",
      "model_name": "LayoutModel",
      "state": {}
     },
     "5f4ff91e78c24102a5b2a2b44eea7838": {
      "model_module": "@jupyter-widgets/controls",
      "model_module_version": "1.5.0",
      "model_name": "TextModel",
      "state": {
       "description": " ",
       "disabled": true,
       "layout": "IPY_MODEL_af265eb145fd434393c037ed49774268",
       "placeholder": "enter a label",
       "style": "IPY_MODEL_4c84c5427867431f8fa5546be3e97529"
      }
     },
     "6a614ab3207a4eccb3d0e2350f361334": {
      "model_module": "@jupyter-widgets/controls",
      "model_module_version": "1.5.0",
      "model_name": "DescriptionStyleModel",
      "state": {
       "description_width": "200px"
      }
     },
     "7bc09e38ce1f4bf1afa02a0d5ec1993c": {
      "model_module": "@jupyter-widgets/base",
      "model_module_version": "1.2.0",
      "model_name": "LayoutModel",
      "state": {
       "width": "300px"
      }
     },
     "81bb9ca541f041b088be05127e48aa46": {
      "model_module": "@jupyter-widgets/controls",
      "model_module_version": "1.5.0",
      "model_name": "TextModel",
      "state": {
       "description": "Mistgcamp-3_0003.tif",
       "layout": "IPY_MODEL_14f3d579fbf24aa7a173f6d8e6eaabf9",
       "placeholder": "enter a label",
       "style": "IPY_MODEL_95c6d10a803f4ca88acd7b686c0edda8",
       "value": "10Hz"
      }
     },
     "8a9f1cd4ef42459d9fdf412fd69bf093": {
      "model_module": "@jupyter-widgets/controls",
      "model_module_version": "1.5.0",
      "model_name": "TextModel",
      "state": {
       "description": " ",
       "disabled": true,
       "layout": "IPY_MODEL_7bc09e38ce1f4bf1afa02a0d5ec1993c",
       "placeholder": "enter a label",
       "style": "IPY_MODEL_6a614ab3207a4eccb3d0e2350f361334"
      }
     },
     "8e59f312f18d484b90560aa2ad33b240": {
      "model_module": "@jupyter-widgets/base",
      "model_module_version": "1.2.0",
      "model_name": "LayoutModel",
      "state": {
       "width": "400px"
      }
     },
     "95c6d10a803f4ca88acd7b686c0edda8": {
      "model_module": "@jupyter-widgets/controls",
      "model_module_version": "1.5.0",
      "model_name": "DescriptionStyleModel",
      "state": {
       "description_width": "200px"
      }
     },
     "966fe46692664a79b5d4fd1a75425a96": {
      "model_module": "@jupyter-widgets/base",
      "model_module_version": "1.2.0",
      "model_name": "LayoutModel",
      "state": {
       "width": "300px"
      }
     },
     "a3fbc89e36b94e55b11fff9e053dc862": {
      "model_module": "@jupyter-widgets/controls",
      "model_module_version": "1.5.0",
      "model_name": "DescriptionStyleModel",
      "state": {
       "description_width": "150px"
      }
     },
     "a8a79d56654146b8b7d90c7e0b423533": {
      "model_module": "@jupyter-widgets/controls",
      "model_module_version": "1.5.0",
      "model_name": "SelectMultipleModel",
      "state": {
       "_options_labels": [
        "lessmovement3.tif",
        "MistGcamp-2(1min).tif",
        "MistGcamp-2(1min)_0001.tif",
        "MistGcamp-2(1min)_0002.tif",
        "MistGcamp-2(1min)_0003.tif",
        "MistGcamp-3(z4_1min).tif",
        "MistGcamp-3(z4_1min)_0001.tif",
        "MistGcamp-3(z4_1min)_0002.tif",
        "MistGcamp-3(z4_1min)_0002_orig.tif",
        "MistGcamp-3(z4_1min)_0002_stab.tif",
        "Mistgcamp-3.tif",
        "Mistgcamp-3_0001.tif",
        "Mistgcamp-3_0002.tif",
        "Mistgcamp-3_0003.tif",
        "modestmovement.tif",
        "modestmovement_orig.tif",
        "modestmovement_stab.tif",
        "MOVEMENT.tif",
        "Movement2.tif",
        "Movement2_orig.tif",
        "Movement2_stab.tif"
       ],
       "description": "Image stack(s)",
       "index": [
        10,
        11,
        12,
        13
       ],
       "layout": "IPY_MODEL_8e59f312f18d484b90560aa2ad33b240",
       "rows": 5,
       "style": "IPY_MODEL_a3fbc89e36b94e55b11fff9e053dc862"
      }
     },
     "aa4bbb6c51c04c7e9cdc72bb650c1743": {
      "model_module": "@jupyter-widgets/output",
      "model_module_version": "1.0.0",
      "model_name": "OutputModel",
      "state": {
       "layout": "IPY_MODEL_f0da10e7186d405098f4a85c9ba14d09",
       "outputs": [
        {
         "name": "stdout",
         "output_type": "stream",
         "text": "Is label \"1Hz\" alpha-numeric? True\nIs label \"2Hz\" alpha-numeric? True\nIs label \"5Hz\" alpha-numeric? True\nIs label \"10Hz\" alpha-numeric? True\n"
        }
       ]
      }
     },
     "af265eb145fd434393c037ed49774268": {
      "model_module": "@jupyter-widgets/base",
      "model_module_version": "1.2.0",
      "model_name": "LayoutModel",
      "state": {
       "width": "300px"
      }
     },
     "bbc4789c7312437f8fb344970e82eb16": {
      "model_module": "@jupyter-widgets/controls",
      "model_module_version": "1.5.0",
      "model_name": "TextModel",
      "state": {
       "description": "Mistgcamp-3.tif",
       "layout": "IPY_MODEL_4c1edcf58cd442c8bd14ffe0895a1989",
       "placeholder": "enter a label",
       "style": "IPY_MODEL_3b0f1a2ef7114700a23cb5cacbdaf87f",
       "value": "1Hz"
      }
     },
     "d19ade43c43b4d14a2141a2ee665f6e4": {
      "model_module": "@jupyter-widgets/base",
      "model_module_version": "1.2.0",
      "model_name": "LayoutModel",
      "state": {}
     },
     "e056b8ee813e4e2688624ba3eb656ad4": {
      "model_module": "@jupyter-widgets/controls",
      "model_module_version": "1.5.0",
      "model_name": "DescriptionStyleModel",
      "state": {
       "description_width": "200px"
      }
     },
     "eedb95860f8449fba0a854e346bed658": {
      "model_module": "@jupyter-widgets/controls",
      "model_module_version": "1.5.0",
      "model_name": "DescriptionStyleModel",
      "state": {
       "description_width": "200px"
      }
     },
     "f0da10e7186d405098f4a85c9ba14d09": {
      "model_module": "@jupyter-widgets/base",
      "model_module_version": "1.2.0",
      "model_name": "LayoutModel",
      "state": {}
     },
     "f303d6fdb9554f31b0f5f94c19d4fd57": {
      "model_module": "@jupyter-widgets/controls",
      "model_module_version": "1.5.0",
      "model_name": "VBoxModel",
      "state": {
       "_dom_classes": [
        "widget-interact"
       ],
       "children": [
        "IPY_MODEL_a8a79d56654146b8b7d90c7e0b423533",
        "IPY_MODEL_0baf445f70504e1292e550bedd354f38"
       ],
       "layout": "IPY_MODEL_5b2d5ac9f2c640b38ccc7388a5edb9c3"
      }
     }
    },
    "version_major": 2,
    "version_minor": 0
   }
  }
 },
 "nbformat": 4,
 "nbformat_minor": 4
}
