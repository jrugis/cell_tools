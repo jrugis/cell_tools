{
 "cells": [
  {
   "cell_type": "code",
   "execution_count": null,
   "metadata": {
    "jupyter": {
     "source_hidden": true
    }
   },
   "outputs": [],
   "source": [
    "import skimage.io as io\n",
    "import numpy as np\n",
    "import csv\n",
    "import datetime\n",
    "import glob\n",
    "import ipywidgets as widgets\n",
    "from PIL import Image as im\n",
    "import os\n",
    "from matplotlib import pyplot as plt\n",
    "import skimage.morphology as skmorph\n",
    "import scipy.ndimage as ndi\n",
    "from skimage import data\n",
    "from skimage import filters\n",
    "from skimage import feature\n",
    "from skimage.color import rgb2gray, gray2rgb\n",
    "import skimage.measure as skmeas\n",
    "import skimage.segmentation as skseg\n",
    "from skimage.feature import peak_local_max\n",
    "from skimage.util import img_as_ubyte\n",
    "from skimage.draw import disk, circle_perimeter\n",
    "from scipy.spatial import cKDTree\n",
    "import skimage.transform as tf\n",
    "import pandas as pd\n",
    "import cv2\n",
    "\n",
    "\n",
    "# global variables\n",
    "if os.name == \"nt\":\n",
    "    FILE_SEP = \"\\\\\"\n",
    "else:\n",
    "    FILE_SEP = \"/\""
   ]
  },
  {
   "cell_type": "code",
   "execution_count": null,
   "metadata": {
    "jupyter": {
     "source_hidden": true
    }
   },
   "outputs": [],
   "source": [
    "#Selecting Image Stack Files *From John's Notebook*\n",
    "%matplotlib widget\n",
    "\n",
    "# global variables\n",
    "image_files = {}    # image stack name(s)\n",
    "image_fps = 10\n",
    "\n",
    "\n",
    "# create image file(s) widget\n",
    "image_files = sorted([f.split(FILE_SEP)[-1] for f in glob.glob(\"../image_stacks/*.tif\", recursive=False)], key=str.casefold)\n",
    "image_widget = widgets.SelectMultiple(options=image_files, description='Image stack(s)', \n",
    "                            disabled=False, layout={'width':'400px'}, style={'description_width':'150px'})\n",
    "\n",
    "# display and respond to the widgets\n",
    "def f(w1):\n",
    "  global image_files\n",
    "  image_files = image_widget.value\n",
    "display(widgets.interactive(f, w1=image_widget))"
   ]
  },
  {
   "cell_type": "code",
   "execution_count": null,
   "metadata": {
    "jupyter": {
     "source_hidden": true
    }
   },
   "outputs": [],
   "source": [
    "### Image stack labels *From John's Notebook*\n",
    "%matplotlib widget\n",
    "\n",
    "# global variables\n",
    "image_tags = []         # list of image file tag labels\n",
    "roi_idx = 0             # image file index to use to use for generating roi's\n",
    "\n",
    "# create image tag widget(s)\n",
    "image_tag_widgets = []\n",
    "m = 6                   # a static number of widgets to display\n",
    "n = len(image_files)    # the number of image stack files selected\n",
    "for i in range(m):\n",
    "  if i >= n:\n",
    "    d = ' '\n",
    "  else:\n",
    "    d = image_files[i]\n",
    "  image_tag_widgets.append(widgets.Text(value='', placeholder='enter a label', description=d,\n",
    "                    disabled=(i>=n), layout={'width':'300px'}, style={'description_width':'200px'}))\n",
    "# display and respond to the widgets\n",
    "def f(w1,w2,w3,w4,w5,w6):\n",
    "  global image_tags, roi_idx\n",
    "  image_tags = [(w.value,idx) for idx,w in enumerate(image_tag_widgets)]\n",
    "  for t in image_tags[:n]:\n",
    "    print('Is label \"' + t[0] + '\" alpha-numeric?', t[0].isalnum())\n",
    "display(widgets.interactive(f, w1=image_tag_widgets[0],\n",
    "                               w2=image_tag_widgets[1],\n",
    "                               w3=image_tag_widgets[2],\n",
    "                               w4=image_tag_widgets[3],\n",
    "                               w5=image_tag_widgets[4],\n",
    "                               w6=image_tag_widgets[5]))\n"
   ]
  },
  {
   "cell_type": "code",
   "execution_count": null,
   "metadata": {
    "jupyter": {
     "source_hidden": true
    }
   },
   "outputs": [],
   "source": [
    "#Obtaining roi_idx value from user *Excerpt From John's Notebook*\n",
    "%matplotlib widget\n",
    "\n",
    "# global variables\n",
    "roi_idx = 0\n",
    "meas_idx = 0\n",
    "\n",
    "s = {'description_width':'200px'} # a default widget style\n",
    "\n",
    "# create roi tag widget\n",
    "roi_tag_widget = widgets.Dropdown(options=image_tags[0:len(image_files)], \n",
    "                 value=roi_idx, description='Image stack for ROI creation', \n",
    "                 disabled=False, layout={'width':'300px'}, style=s)\n",
    "# create measurement tag widget\n",
    "meas_tag_widget = widgets.Dropdown(options=image_tags[0:len(image_files)],\n",
    "                  value=meas_idx, description='Image stack for measurement',\n",
    "                  disabled=False, layout={'width':'300px'}, style=s)\n",
    "\n",
    "# display and respond to widget\n",
    "def f(w1,w2):\n",
    "    global roi_idx, meas_idx\n",
    "    meas_idx = meas_tag_widget.value\n",
    "    roi_idx = roi_tag_widget.value\n",
    "display(widgets.interactive(f, w1=roi_tag_widget, w2=meas_tag_widget))"
   ]
  },
  {
   "cell_type": "code",
   "execution_count": null,
   "metadata": {
    "jupyter": {
     "source_hidden": true
    }
   },
   "outputs": [],
   "source": [
    "#Timestamped results directory *From John's Notebook*\n",
    "# create time-stamped results directory\n",
    "if not os.path.exists(\"../results\"):\n",
    "  os.mkdir(\"../results\")\n",
    "resultsdir = str(datetime.datetime.now())[:-7]\n",
    "resultsdir = resultsdir.replace('-', '').replace(' ', '-').replace(':','')\n",
    "resultsdir = \"../results/\" + resultsdir\n",
    "os.mkdir(resultsdir)\n",
    "\n",
    "# write out the image stack file names used\n",
    "f = open(resultsdir + '/' + \"image_stacks.txt\", \"w\")\n",
    "for v in image_files:\n",
    "  f.write(v+'\\n')\n",
    "f.close()\n",
    "\n",
    "# write out the labels used\n",
    "f = open(resultsdir + '/' + \"labels.txt\", \"w\")\n",
    "for i in range(len(image_files)):\n",
    "  f.write(image_tags[i][0]+'\\n')\n",
    "f.close()"
   ]
  },
  {
   "cell_type": "code",
   "execution_count": null,
   "metadata": {
    "jupyter": {
     "source_hidden": true
    }
   },
   "outputs": [],
   "source": [
    "%matplotlib inline\n",
    "#Reading in image\n",
    "A0 = io.imread(\"../image_stacks/\" + image_files[roi_idx], plugin=\"tifffile\")\n",
    "B0 = io.imread(\"../image_stacks/\" + image_files[meas_idx], plugin=\"tifffile\")\n",
    "\n",
    "\n",
    "for i in range(2,A0.shape[0]-2):         # calculate moving average for ROI image\n",
    "    A0[i] = np.mean(A0[i-2:i+2+1], axis=0)\n",
    "for i in range(2):                       # duplicate beginning and ending frames for ROI image\n",
    "    A0[i] = A0[2]\n",
    "    A0[-(1+i)] = A0[-(2+1)]  \n",
    "    \n",
    "for i in range(2,B0.shape[0]-2):         # calculate moving average for measurement image\n",
    "    B0[i] = np.mean(B0[i-2:i+2+1], axis=0)\n",
    "for i in range(2):                       # duplicate beginning and ending frames for measurement image\n",
    "    B0[i] = B0[2]\n",
    "    B0[-(1+i)] = B0[-(2+1)]\n",
    "\n",
    "baseline_imgs = A0[::]\n",
    "smoothed_imgs = []\n",
    "threshs = []\n",
    "for i in baseline_imgs:\n",
    "    smoothed = ndi.gaussian_filter(i, sigma=5)\n",
    "    smoothed_imgs.append(smoothed)\n",
    "for j in smoothed_imgs:\n",
    "    thresh = filters.threshold_otsu(j)\n",
    "    threshs.append(thresh)\n",
    "threshold = np.mean(threshs)    \n",
    "stacked = np.stack(smoothed_imgs, axis = -1)"
   ]
  },
  {
   "cell_type": "code",
   "execution_count": null,
   "metadata": {
    "jupyter": {
     "source_hidden": true
    }
   },
   "outputs": [],
   "source": [
    "total_objs = []\n",
    "total_coords = []\n",
    "final_objs = []\n",
    "for i in range(0,len(smoothed_imgs),2):\n",
    "    img = smoothed_imgs[i].astype('uint8')\n",
    "    \n",
    "    th2 = cv2.adaptiveThreshold(img,255,cv2.ADAPTIVE_THRESH_MEAN_C,\\\n",
    "                                cv2.THRESH_BINARY,81,2)\n",
    "    \n",
    "    mask = filters.median(th2)\n",
    "    lab = skmeas.label(mask)\n",
    "    objs = skmeas.regionprops(lab)\n",
    "    for obj in objs:\n",
    "        if obj.area < 1500 and obj.area > 250:\n",
    "            total_objs.append(obj)\n",
    "            total_coords.append(obj.centroid)\n",
    "\n",
    "total_coords_array = np.array(total_coords)\n",
    "tree = cKDTree(total_coords_array)\n",
    "rows_to_fuse = list(tree.query_pairs(r=30.0))   # Change distance between objects here\n",
    "keep = np.ones(total_coords_array.shape[0])\n",
    "if(len(rows_to_fuse)):\n",
    "    keep[np.array(rows_to_fuse)[:,0]] = 0\n",
    "total_coords = total_coords_array[keep.astype(bool)] \n",
    "\n",
    "for obj in total_objs:\n",
    "    if obj.centroid in total_coords:\n",
    "        final_objs.append(obj)\n",
    "\n",
    "canvas = np.zeros_like(img)\n",
    "for coord in total_coords:\n",
    "    rr, cc = disk((coord[0],coord[1]), 2)\n",
    "    canvas[rr,cc] = 1\n",
    "    \n",
    "\n",
    "io.imshow(canvas)"
   ]
  },
  {
   "cell_type": "code",
   "execution_count": null,
   "metadata": {
    "jupyter": {
     "source_hidden": true
    }
   },
   "outputs": [],
   "source": [
    "canvas_two = np.zeros_like(img)\n",
    "for obj in final_objs:\n",
    "    for coord in obj.coords:\n",
    "        canvas_two[coord[0]][coord[1]] = 1\n",
    "io.imshow(canvas_two)"
   ]
  },
  {
   "cell_type": "code",
   "execution_count": null,
   "metadata": {
    "jupyter": {
     "source_hidden": true
    }
   },
   "outputs": [],
   "source": [
    "%matplotlib inline\n",
    "#Applying watershed transform to split touch objects\n",
    "dist = ndi.distance_transform_edt(canvas_two)\n",
    "coords = peak_local_max(-dist, min_distance = 5, footprint=np.ones((5,5)),labels=canvas_two)\n",
    "watershed_mask = np.zeros(dist.shape, dtype=bool)\n",
    "watershed_mask[tuple(coords.T)] = True\n",
    "markers, _ = ndi.label(watershed_mask)\n",
    "labels = skseg.watershed(-dist,markers,mask=canvas_two,watershed_line=True)\n",
    "io.imshow(labels)"
   ]
  },
  {
   "cell_type": "code",
   "execution_count": null,
   "metadata": {
    "jupyter": {
     "source_hidden": true
    }
   },
   "outputs": [],
   "source": [
    "%matplotlib inline\n",
    "#Closing edges\n",
    "eroded_water = skmorph.binary_erosion(labels)\n",
    "closed_one = skmorph.binary_closing(eroded_water)\n",
    "closed_two = skmorph.binary_closing(closed_one)\n",
    "io.imshow(closed_two)"
   ]
  },
  {
   "cell_type": "code",
   "execution_count": null,
   "metadata": {
    "jupyter": {
     "source_hidden": true
    }
   },
   "outputs": [],
   "source": [
    "%matplotlib inline\n",
    "#Canny edge detection\n",
    "edges = feature.canny(closed_two, sigma = 3)\n",
    "\n",
    "# Creating Border rectangle to create outer edge of cut off ROIs\n",
    "border_len = 0\n",
    "fill_mode = False\n",
    "\n",
    "\n",
    "# Top border sealing\n",
    "for i in range(0,edges.shape[1]-1):\n",
    "    if edges[1][i] == True and edges[1][i+1] == False and fill_mode == False:\n",
    "        fill_mode = True\n",
    "    elif edges[1][i] == True and edges[1][i+1] == False and fill_mode == True:\n",
    "        fill_mode = False\n",
    "    if fill_mode == True:\n",
    "        edges[1][i] = True\n",
    "fill_mode = False # Fill mode is reset in between each axis sealing\n",
    "# Right border sealing                \n",
    "for i in range(0,edges.shape[0]-1):\n",
    "    if edges[i][edges.shape[1]-2] == True and edges[i+1][edges.shape[1]-2] == False and fill_mode == False:\n",
    "        fill_mode = True\n",
    "    elif edges[i][edges.shape[1]-2] == True and edges[i+1][edges.shape[1]-2] == False and fill_mode == True:\n",
    "        fill_mode = False\n",
    "    if fill_mode == True:\n",
    "        edges[i][edges.shape[1]-1] = True\n",
    "fill_mode = False\n",
    "## Bottom border sealing\n",
    "for i in range(0,edges.shape[1]-1):\n",
    "    if edges[edges.shape[0] - 2][i] == True and edges[edges.shape[0] - 2][i+1] == False and fill_mode == False:\n",
    "        fill_mode = True\n",
    "    elif edges[edges.shape[0] - 2][i] == True and edges[edges.shape[0] - 2][i+1] == False and fill_mode == True:\n",
    "        fill_mode = False\n",
    "    if fill_mode == True:\n",
    "        edges[edges.shape[0] - 2][i] = True\n",
    "fill_mode = False\n",
    "# Left border sealing\n",
    "for i in range(0,edges.shape[0]-1):\n",
    "    if edges[i][1] == True and edges[i+1][1] == False and fill_mode == False:\n",
    "        fill_mode = True\n",
    "    elif edges[i][1] == True and edges[i+1][1] == False and fill_mode == True:\n",
    "        fill_mode = False\n",
    "    if fill_mode == True:\n",
    "        edges[i][1] = True\n",
    "\n",
    "io.imshow(edges)"
   ]
  },
  {
   "cell_type": "code",
   "execution_count": null,
   "metadata": {
    "jupyter": {
     "source_hidden": true
    }
   },
   "outputs": [],
   "source": [
    "%matplotlib inline\n",
    "#Filling in borders\n",
    "dilated_edges = skmorph.binary_dilation(edges)\n",
    "filled = ndi.binary_fill_holes(dilated_edges)\n",
    "io.imshow(filled)"
   ]
  },
  {
   "cell_type": "code",
   "execution_count": null,
   "metadata": {
    "jupyter": {
     "source_hidden": true
    }
   },
   "outputs": [],
   "source": [
    "#Final separation erosion\n",
    "eros_1= skmorph.binary_erosion(filled)\n",
    "eros_2 = skmorph.binary_erosion(eros_1)\n",
    "eros_3 = skmorph.binary_erosion(eros_2)\n",
    "pre_final = skmorph.remove_small_objects(eros_3, min_size = 150)\n",
    "dil_1 = skmorph.binary_dilation(pre_final)\n",
    "dil_2 = skmorph.binary_dilation(dil_1)\n",
    "dil_3 = skmorph.binary_dilation(dil_2)\n",
    "final = skmorph.binary_dilation(dil_3)\n",
    "\n",
    "io.imshow(final)"
   ]
  },
  {
   "cell_type": "code",
   "execution_count": null,
   "metadata": {
    "jupyter": {
     "source_hidden": true
    }
   },
   "outputs": [],
   "source": [
    "mask_label = skmeas.label(final)\n",
    "objs = skmeas.regionprops(mask_label)\n",
    "final = np.zeros_like(mask_label)\n",
    "\n",
    "#Removing large objects\n",
    "for obj in objs:\n",
    "    if obj.area < 1500:\n",
    "        final = final + (mask_label == obj.label)\n",
    "io.imshow(final)"
   ]
  },
  {
   "cell_type": "code",
   "execution_count": null,
   "metadata": {
    "jupyter": {
     "source_hidden": true
    }
   },
   "outputs": [],
   "source": [
    "#Label and ID ROIS *From John's Notebook*\n",
    "R, n = skmeas.label(final, return_num=True)\n",
    "io.imsave(resultsdir + \"/\" + image_tags[roi_idx][0] + \"-roi_mask_labelled.tif\", np.int16(R), check_contrast=False) # Save labeled ROI Mask for movie\n",
    "ROI, COUNT = np.unique(R, return_counts=True)\n",
    "#Plot labels of ROIS on image *From John's Notebook*\n",
    "fig, ax = plt.subplots(nrows=1, ncols=1, figsize = [10, 10])\n",
    "ax.imshow(final, norm=None, vmax=2, cmap='gray') # dim the white a bit, easier to see the annnotations\n",
    "for props in skmeas.regionprops(R):\n",
    "  y, x = props.centroid # get the centroid for each region\n",
    "  t = ax.text(x, y, str(props.label), ha='center', va='center', size=14, c='r')\n",
    "plt.show()\n",
    "print(\"apical ROI labels: \", ROI[1:])\n",
    "print(\"apical ROI pixel counts: \", COUNT[1:])"
   ]
  },
  {
   "cell_type": "code",
   "execution_count": null,
   "metadata": {
    "jupyter": {
     "source_hidden": true
    }
   },
   "outputs": [],
   "source": [
    "#Plotting region responses *From John's Notebook*\n",
    "%matplotlib inline\n",
    "\n",
    "# apical region plots using the mask\n",
    "X = np.array(range(B0.shape[0])) * (1/image_fps) # the timebase\n",
    "\n",
    "# create and save plots\n",
    "for c in ROI:\n",
    "  if(c==0):\n",
    "    continue\n",
    "  fig, ax = plt.subplots(nrows=1, ncols=1, figsize = [10, 4])\n",
    "  fig.suptitle('apical region ' + str(c)+ \": individual pixels and average, \" + image_tags[meas_idx][0] + \" mask and stimulation - \" +str(COUNT[c]) + \" pixels\")\n",
    "  S = B0[:, R==ROI[c]]\n",
    "  T = np.sum(S, axis=1) / S.shape[1]\n",
    "  ax.plot(X, S)\n",
    "  ax.plot(X, T, color='black')\n",
    "  ax.set(ylabel=\"%F/F0\")\n",
    "  ax.set(xlabel=\"time (s)\")\n",
    "\n",
    "  # save figure to pdf\n",
    "  s = \"/apical_region_\" + str(c).zfill(2) + \"-mask\" + image_tags[meas_idx][0] + \"-stim\" + image_tags[meas_idx][0] + \".pdf\"\n",
    "  fig.savefig(resultsdir + s)\n",
    "  \n",
    "  plt.show()\n",
    "  plt.close() # frees up memory\n"
   ]
  },
  {
   "cell_type": "code",
   "execution_count": null,
   "metadata": {
    "jupyter": {
     "source_hidden": true
    }
   },
   "outputs": [],
   "source": [
    "#Saving average graphs *From John's Notebook*\n",
    "%matplotlib inline\n",
    "\n",
    "# calculate, plot and save region responses for all stimulation frequencies\n",
    "\n",
    "# calculate all of the results\n",
    "RESULTS = np.zeros((1, ROI.shape[0]-1, B0.shape[0])) # array for all of the apical results\n",
    "X = np.array(range(RESULTS.shape[2])) * (1/image_fps) # the timebase\n",
    "f = image_files[meas_idx]\n",
    "A0x = io.imread(\"../image_stacks/\" + f)\n",
    "for c in ROI:\n",
    "    if(c==0):\n",
    "        continue \n",
    "    S = A0x[:, R==ROI[c]]\n",
    "    T = np.sum(S, axis=1) / S.shape[1]\n",
    "    RESULTS[0, c-1] = T # save in the results array\n",
    "# plot and save responses for all the stimulation frequencies by region\n",
    "for n in range(1,len(ROI)):\n",
    "  fig, ax = plt.subplots(nrows=1, ncols=1, figsize = [10, 4])\n",
    "  fig.suptitle('apical region ' + str(ROI[n]).zfill(2) + \": mask \"+ image_tags[meas_idx][0] + \", \" + str(COUNT[n]) + \" pixels\")\n",
    "\n",
    "  ax.plot(X, np.transpose(RESULTS[:, n-1, :]))\n",
    "  ax.set(ylabel=\"%F/F0\")\n",
    "  ax.set(xlabel=\"time (s)\")\n",
    "  ax.legend(image_tags[meas_idx])\n",
    "\n",
    "  # save figure to pdf\n",
    "  fig.savefig(resultsdir + \"/apical_region_\" + str(n).zfill(2) + \"-mask\" + image_tags[meas_idx][0] + \"-stimALL.pdf\")\n",
    "    \n",
    "  plt.show()\n",
    "  plt.close() # frees up memory\n",
    "  \n",
    "  # save responses to CSV file\n",
    "  with open (resultsdir + \"/apical_region_\" + str(n).zfill(2) + \"-mask\" + image_tags[meas_idx][0] + \"-stimALL.csv\", 'w') as file:\n",
    "    writer = csv.writer(file)\n",
    "    for i in range(RESULTS.shape[2]):\n",
    "      t = np.append(X[i], RESULTS[:,n-1,i])\n",
    "      writer.writerow('{:3.3e}'.format(x) for x in t)\n",
    "\n",
    "# plot average of region responses for all the stimulation frequencies\n",
    "fig, ax = plt.subplots(nrows=1, ncols=1, figsize = [10, 4])\n",
    "fig.suptitle(\"average over all apical regions, mask \"+ image_tags[meas_idx][0])\n",
    "\n",
    "Y = np.transpose(np.sum(RESULTS, axis=(1)))/RESULTS.shape[1]\n",
    "ax.plot(X, Y)\n",
    "ax.set(ylabel=\"%F/F0\")\n",
    "ax.set(xlabel=\"time (s)\")\n",
    "ax.legend(image_tags[meas_idx])\n",
    "\n",
    "# save figure to pdf\n",
    "fig.savefig(resultsdir + \"/apical_region_AVG-mask\" + image_tags[meas_idx][0] + \"-stimALL.pdf\")\n",
    "    \n",
    "plt.show()\n",
    "plt.close() # frees up memory\n",
    "\n",
    "# save average of responses to CSV file\n",
    "with open (resultsdir + \"/apical_region_AVG-mask\" + image_tags[meas_idx][0] + \"-stimALL.csv\", 'w') as file:\n",
    "  writer = csv.writer(file)\n",
    "  for i in range(X.shape[0]):\n",
    "    t = np.append(X[i], Y[i])\n",
    "    writer.writerow('{:3.3e}'.format(x) for x in t)\n"
   ]
  },
  {
   "cell_type": "code",
   "execution_count": null,
   "metadata": {
    "jupyter": {
     "source_hidden": true
    }
   },
   "outputs": [],
   "source": []
  },
  {
   "cell_type": "code",
   "execution_count": null,
   "metadata": {
    "jupyter": {
     "source_hidden": true
    }
   },
   "outputs": [],
   "source": []
  }
 ],
 "metadata": {
  "kernelspec": {
   "display_name": "Python 3 (ipykernel)",
   "language": "python",
   "name": "python3"
  },
  "language_info": {
   "codemirror_mode": {
    "name": "ipython",
    "version": 3
   },
   "file_extension": ".py",
   "mimetype": "text/x-python",
   "name": "python",
   "nbconvert_exporter": "python",
   "pygments_lexer": "ipython3",
   "version": "3.8.12"
  }
 },
 "nbformat": 4,
 "nbformat_minor": 4
}
